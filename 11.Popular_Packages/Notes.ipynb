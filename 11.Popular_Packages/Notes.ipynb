{
 "cells": [
  {
   "cell_type": "markdown",
   "metadata": {},
   "source": [
    "# Popular packages"
   ]
  },
  {
   "cell_type": "markdown",
   "metadata": {},
   "source": [
    "## 1. API"
   ]
  },
  {
   "cell_type": "markdown",
   "metadata": {},
   "source": [
    "Simple terms: API's are endpoints that are publicly accessible on the internet"
   ]
  },
  {
   "cell_type": "markdown",
   "metadata": {},
   "source": [
    "- Requests URL: `https://api.example.com/v1/endpoint`\n",
    "- Request Method: `GET`(getting data), `POST`(creating data), `PUT`(updating data), `DELETE`(deleting data)\n"
   ]
  },
  {
   "cell_type": "markdown",
   "metadata": {},
   "source": [
    "## 2. YELP API"
   ]
  },
  {
   "cell_type": "markdown",
   "metadata": {},
   "source": [
    "### Searching for business"
   ]
  },
  {
   "cell_type": "code",
   "execution_count": 8,
   "metadata": {},
   "outputs": [
    {
     "name": "stdout",
     "output_type": "stream",
     "text": [
      "[\"Barber's Point\", '12 Pell', 'Soho NYC Barbers', 'The Kinsman Barber Shop', 'Ace of Cuts Barber Shop', 'On the Mark Barbershop', 'Rafaels Barbershop', \"Gentlemen's Barbershop\", 'Fellow Barber', 'Euro Barber Shop', 'Hairrari East Village']\n"
     ]
    }
   ],
   "source": [
    "import requests\n",
    "\n",
    "url = \"https://api.yelp.com/v3/businesses/search\"\n",
    "api_key = \"your_api_key\"\n",
    "headers = {\n",
    "    \"Authorization\": \"Bearer \" + api_key\n",
    "}\n",
    "\n",
    "params = {\n",
    "    \"term\": \"Barber\",\n",
    "    \"location\": \"New York City\"\n",
    "}\n",
    "\n",
    "response = requests.get(url, headers=headers, params=params)\n",
    "businesses = response.json()[\"businesses\"]\n",
    "names = [business[\"name\"] for business in businesses if business[\"rating\"] > 4.5]\n",
    "print(names)"
   ]
  },
  {
   "cell_type": "markdown",
   "metadata": {},
   "source": [
    "### Hiding API key"
   ]
  },
  {
   "cell_type": "markdown",
   "metadata": {},
   "source": [
    "Create a file .gitignore to hide your API key."
   ]
  },
  {
   "cell_type": "code",
   "execution_count": 1,
   "metadata": {},
   "outputs": [
    {
     "name": "stdout",
     "output_type": "stream",
     "text": [
      "[\"Barber's Point\", '12 Pell', 'Soho NYC Barbers', 'The Kinsman Barber Shop', 'Ace of Cuts Barber Shop', 'On the Mark Barbershop', 'Rafaels Barbershop', 'Fellow Barber', \"Gentlemen's Barbershop\", 'Euro Barber Shop', 'Hairrari East Village']\n"
     ]
    }
   ],
   "source": [
    "import requests\n",
    "import config\n",
    "\n",
    "url = \"https://api.yelp.com/v3/businesses/search\"\n",
    "headers = {\n",
    "    \"Authorization\": \"Bearer \" + config.api_key\n",
    "}\n",
    "\n",
    "params = {\n",
    "    \"term\": \"Barber\",\n",
    "    \"location\": \"New York City\"\n",
    "}\n",
    "\n",
    "response = requests.get(url, headers=headers, params=params)\n",
    "businesses = response.json()[\"businesses\"]\n",
    "names = [business[\"name\"] for business in businesses if business[\"rating\"] > 4.5]\n",
    "print(names)"
   ]
  },
  {
   "cell_type": "markdown",
   "metadata": {},
   "source": [
    "## 3. Sending text messages"
   ]
  },
  {
   "cell_type": "code",
   "execution_count": null,
   "metadata": {},
   "outputs": [],
   "source": [
    "from twilio.rest import Client\n",
    "import config\n",
    "\n",
    "\n",
    "\n",
    "client = Client(config.account_sid, config.auth_token)\n",
    "\n",
    "message = client.messages.create(\n",
    "    to=\"...\", \n",
    "    from_=\"...\", \n",
    "    body=\"This is our first message\"\n",
    "                       )\n",
    "\n",
    "print(f\"Message sent with SID: {message.sid}\")\n",
    "\n",
    "\n"
   ]
  },
  {
   "cell_type": "markdown",
   "metadata": {},
   "source": [
    "## 4. Web scraping"
   ]
  },
  {
   "cell_type": "code",
   "execution_count": 24,
   "metadata": {},
   "outputs": [
    {
     "name": "stdout",
     "output_type": "stream",
     "text": [
      "GLFM table of contents - how to omit certain headings or limit the depth?\n",
      "0\n",
      "Are Ephemeral Containers a risk for noisy neighbour problem\n",
      "0\n",
      "How to create account using just with phone number with appwrite?\n",
      "0\n",
      "Open Source Computer Display Scanner\n",
      "0\n",
      "Excel value if now time between 00:00 to 04:00\n",
      "0\n",
      "I need a headless browser without networking features, just to render HTML\n",
      "0\n",
      "How to get every possible combination of values from two PHP arrays?\n",
      "0\n",
      "plotly drop down menu map issues\n",
      "0\n",
      "PyMC use JAX to compute sample_posterior_predictive with GPU\n",
      "0\n",
      "How does ReactJS's \"useRef\" hook work internally?\n",
      "0\n",
      "Why are my changes to proxy.conf.js not being applied?\n",
      "0\n",
      "No wifi adapter found At ubuntu 18.04.6 : intel corporation wireless 8265/8275\n",
      "0\n",
      "productbuild create an .pkg that install in the current directory, not the `install-path`\n",
      "0\n",
      "Calculate Beginning and Ending Balances Using R\n",
      "0\n",
      "Accessing elements from webpage using Chrome developer tool\n",
      "0\n",
      "Type Mismatch (PowerPoint Office 365 VBA)\n",
      "0\n",
      "MongoDB run loop to add incremental index value in array\n",
      "2\n",
      "socket.send stops working after first send in pysimplegui loop\n",
      "0\n",
      "Why does crypto throw 'ERR_CRYPTO_UNKNOWN_CIPHER' when using AES-KW as encryption algorithm?\n",
      "0\n",
      "View not updating after inserting an element\n",
      "0\n",
      "How to migrate old git repos that are no longer recognized as git repos?\n",
      "1\n",
      "502 Bad Gateway Nginx Error Flask Server on AWS Elastic Beanstalk\n",
      "0\n",
      "What are the unicode numbers for empty set, and varnothing? [closed]\n",
      "-2\n",
      "How do I debug in leetcode?\n",
      "0\n",
      "Make a flatpak for a self updating java application\n",
      "0\n",
      "Why do I get this error when running repl_python() in RStudio? \"Error in 1L:(nrow(t) - trim_tail) : argument of length 0\"\n",
      "0\n",
      "CSS `::first-line` Not Respecting `letter-spacing` in Nested `a` Tag\n",
      "0\n",
      "How to programmatically change the analysis path in the spec file\n",
      "0\n",
      "logroate's postrotate not being executed\n",
      "0\n",
      "Rails app is looping through job and service calls multiple times on update\n",
      "0\n",
      "Sampling weights and K prototype clustering\n",
      "0\n",
      "Evaluating a function that returns nothing\n",
      "0\n",
      "addEventListener capture a 'change' event driven by a 3rd party js lib\n",
      "0\n",
      "MVVM WPF: DataContext binding of dictionary equivalent in code-behind\n",
      "0\n",
      "export jar file from eclipse not working in macOS\n",
      "0\n",
      "Understanding Sentence Transformers negative sampling code\n",
      "0\n",
      "What is a regular expression for any unicode character that visually resembles a letter `i` or letter `I`?\n",
      "-3\n",
      "The problem of correctly detecting collisions in the chrome dino T-rex with pygame\n",
      "0\n",
      "OOP Relationships Examples\n",
      "-2\n",
      "problem with installing strapi in an astro project\n",
      "0\n",
      "How do I destroy a part when it touches another part?\n",
      "0\n",
      "Adding bank account to Apple Store Connect Not working\n",
      "-1\n",
      "What is a regular expression for any unicode character that visually resembles a letter \"E\" or \"e\"?\n",
      "-3\n",
      "Error in finding quartiles and outliers in R Studio\n",
      "0\n",
      "What is a regular expression for any unicode character that visually resembles a letter \"a\" or letter \"A\"? [closed]\n",
      "-4\n",
      "springboot docker container not connecting to mySQL container that is being created along side it in docker compose\n",
      "0\n",
      "Far too stupid to understand KNN function myself, getting an error about exidind number of array elements\n",
      "0\n",
      "error while trying to run bevy fragment shader\n",
      "0\n",
      "Ionic/Capacitor 8.2 - Java - Android - how to set status-bar style and color?\n",
      "0\n",
      "Twilio Error 32017 Carrier blocked call due to calling number (caller ID)\n",
      "0\n"
     ]
    }
   ],
   "source": [
    "import requests\n",
    "from bs4 import BeautifulSoup\n",
    "\n",
    "response = requests.get(\"https://stackoverflow.com/questions\")\n",
    "soup = BeautifulSoup(response.text, \"html.parser\")\n",
    "\n",
    "questions = soup.select(\".s-post-summary\")\n",
    "for question in questions:\n",
    "    print(question.select_one(\".s-link\").get_text())\n",
    "    print(question.select_one(\".s-post-summary--stats-item-number\").get_text())\n"
   ]
  },
  {
   "cell_type": "markdown",
   "metadata": {},
   "source": [
    "## 5. Browser Automation"
   ]
  },
  {
   "cell_type": "code",
   "execution_count": null,
   "metadata": {},
   "outputs": [],
   "source": [
    "from selenium import webdriver\n",
    "from selenium.webdriver.common.by import By\n",
    "from selenium.webdriver.support.ui import WebDriverWait\n",
    "from selenium.webdriver.support import expected_conditions as EC\n",
    "import config\n",
    "import time\n",
    "\n",
    "# Initialize the Chrome driver\n",
    "browser = webdriver.Chrome()\n",
    "\n",
    "try:\n",
    "    # Open the GitHub website\n",
    "    browser.get(\"https://github.com\")\n",
    "    print(\"Opened GitHub\")\n",
    "\n",
    "    # Find the \"Sign in\" link and click it\n",
    "    signin_link = WebDriverWait(browser, 10).until(\n",
    "        EC.presence_of_element_located((By.LINK_TEXT, \"Sign in\"))\n",
    "    )\n",
    "    signin_link.click()\n",
    "    print(\"Clicked on Sign in link\")\n",
    "\n",
    "    # Wait for the username field to be present\n",
    "    username = WebDriverWait(browser, 10).until(\n",
    "        EC.presence_of_element_located((By.ID, \"login_field\"))\n",
    "    )\n",
    "    username.send_keys(config.github_username)\n",
    "    print(\"Entered username\")\n",
    "\n",
    "    # Wait for the password field to be present\n",
    "    password = WebDriverWait(browser, 10).until(\n",
    "        EC.presence_of_element_located((By.ID, \"password\"))\n",
    "    )\n",
    "    password.send_keys(config.github_password)\n",
    "    print(\"Entered password\")\n",
    "\n",
    "    # Submit the form\n",
    "    password.submit()\n",
    "    print(\"Submitted the form\")\n",
    "\n",
    "    # Add a delay before closing the browser\n",
    "    time.sleep(10)  # Keeps the browser open for 10 seconds\n",
    "\n",
    "except Exception as e:\n",
    "    print(f\"An error occurred: {e}\")\n",
    "\n",
    "\n",
    "print(\"Please enter exit and close the browser\")\n",
    "input(\"\")\n",
    "browser.quit()\n"
   ]
  },
  {
   "cell_type": "markdown",
   "metadata": {},
   "source": [
    "## 6. Working with PDFs"
   ]
  },
  {
   "cell_type": "code",
   "execution_count": 8,
   "metadata": {},
   "outputs": [],
   "source": [
    "import PyPDF2\n",
    "\n",
    "# Rotate the first page of a PDF file\n",
    "def rotate_page():\n",
    "    with open(\"pdfFiles/first.pdf\", \"rb\") as file:\n",
    "        reader = PyPDF2.PdfReader(file)\n",
    "        print(len(reader.pages))\n",
    "        page = reader.pages[0]\n",
    "        page.rotate(90)\n",
    "        writer = PyPDF2.PdfWriter()\n",
    "        writer.add_page(page)\n",
    "        with open(\"pdfFiles/rotated.pdf\", \"wb\") as output:\n",
    "            writer.write(output)\n",
    "\n",
    "def merge_pdfs():\n",
    "    merger = PyPDF2.PdfMerger()\n",
    "    file_names = [\"pdfFiles/first.pdf\", \"pdfFiles/second.pdf\"]\n",
    "    for file_name in file_names:\n",
    "        merger.append(file_name)\n",
    "    merger.write(\"pdfFiles/merged.pdf\")\n",
    "\n"
   ]
  },
  {
   "cell_type": "markdown",
   "metadata": {},
   "source": [
    "## 7. Working with Excel Spreadsheets"
   ]
  },
  {
   "cell_type": "code",
   "execution_count": 9,
   "metadata": {},
   "outputs": [
    {
     "name": "stdout",
     "output_type": "stream",
     "text": [
      "['Sheet1']\n",
      "transaction_id\n",
      "1\n",
      "1\n",
      "A1\n",
      "\n",
      "\n",
      "((<Cell 'Sheet1'.A1>, <Cell 'Sheet1'.A2>, <Cell 'Sheet1'.A3>, <Cell 'Sheet1'.A4>), (<Cell 'Sheet1'.B1>, <Cell 'Sheet1'.B2>, <Cell 'Sheet1'.B3>, <Cell 'Sheet1'.B4>), (<Cell 'Sheet1'.C1>, <Cell 'Sheet1'.C2>, <Cell 'Sheet1'.C3>, <Cell 'Sheet1'.C4>))\n"
     ]
    }
   ],
   "source": [
    "import openpyxl\n",
    "\n",
    "#wb = openpyxl.Workbook()\n",
    "wb = openpyxl.load_workbook(\"excel_spreadsheet/transactions.xlsx\")\n",
    "print(wb.sheetnames)\n",
    "\n",
    "sheet = wb[\"Sheet1\"]\n",
    "\n",
    "# METHODS NOT USED IN THE VIDEO, BUT AVAILABLE\n",
    "#wb.create_sheet(\"Sheet2\", 0)\n",
    "#wb.remove(sheet)\n",
    "\n",
    "cell = sheet[\"A1\"]\n",
    "print(cell.value)\n",
    "print(cell.row)\n",
    "print(cell.column)\n",
    "print(cell.coordinate)\n",
    "\n",
    "print(\"\\n\")\n",
    "# print(sheet.max_row)\n",
    "# print(sheet.max_column)\n",
    "\n",
    "\n",
    "# for row in range(1, sheet.max_row + 1):\n",
    "#     for column in range(1, sheet.max_column + 1):\n",
    "#         cell = sheet.cell(row, column)\n",
    "#         print(cell.value, end=\" \")\n",
    "#     print()\n",
    "\n",
    "cell = sheet[\"a1\"]\n",
    "column = sheet[\"a\"]\n",
    "cells = sheet[\"a:c\"]\n",
    "#sheet[\"a1:c3\"]\n",
    "print(cells) # Tuple of Tuple\n",
    "# sheet[1] # First row\n",
    "# sheet[1:3] # First 2 rows\n",
    "\n",
    "sheet.append([1, 2, 3])\n",
    "wb.save(\"excel_spreadsheet/transactions2.xlsx\")\n",
    "\n",
    "# LOOK DOCUMENTATION FOR MORE INFO"
   ]
  },
  {
   "cell_type": "markdown",
   "metadata": {},
   "source": [
    "## 8. Command Query Separation Principle"
   ]
  },
  {
   "cell_type": "markdown",
   "metadata": {},
   "source": [
    "Principle: Our methods or functions should either be commands that perform an action to change the state of a system, or queries that return an answer to the caller without changing the state or causing side effects."
   ]
  },
  {
   "cell_type": "markdown",
   "metadata": {},
   "source": [
    "Methods -> commands or queries but not both"
   ]
  },
  {
   "cell_type": "code",
   "execution_count": 11,
   "metadata": {},
   "outputs": [
    {
     "name": "stdout",
     "output_type": "stream",
     "text": [
      "transaction_id\n",
      "1001\n",
      "1002\n",
      "1003\n",
      "None\n",
      "None\n",
      "None\n",
      "None\n",
      "None\n"
     ]
    }
   ],
   "source": [
    "import openpyxl\n",
    "\n",
    "wb = openpyxl.load_workbook(\"excel_spreadsheet/transactions.xlsx\")\n",
    "\n",
    "#wb.create_sheet(\"Sheet2\", 0) # State of the system changes - command method\n",
    "\n",
    "sheet = wb[\"Sheet1\"]\n",
    "\n",
    "#shell.cell() # Acces a cell - query method - violates the principle, the why is explained bellow\n",
    "\n",
    "# Created the cells that didn't exist before, but is a query method - VIOLATION\n",
    "for row in range(1,10):\n",
    "    cell = sheet.cell(row, 1)\n",
    "    print(cell.value)\n",
    "\n",
    "sheet.append([1, 2, 3])\n",
    "\n",
    "wb.save(\"excel_spreadsheet/transactions3.xlsx\")\n"
   ]
  },
  {
   "cell_type": "markdown",
   "metadata": {},
   "source": [
    "## 9. NumPy"
   ]
  },
  {
   "cell_type": "markdown",
   "metadata": {},
   "source": [
    "Core library for scientific computing in Python. It provides a high-performance multidimensional array object and tools for working with these arrays."
   ]
  },
  {
   "cell_type": "code",
   "execution_count": 19,
   "metadata": {},
   "outputs": [
    {
     "name": "stdout",
     "output_type": "stream",
     "text": [
      "[2.54 5.08 7.62]\n"
     ]
    }
   ],
   "source": [
    "import numpy as np\n",
    "\n",
    "# First Part\n",
    "# array = np.array([[1,2,3],[3,5,6]])\n",
    "# print(array)\n",
    "# print(type(array))\n",
    "# print(array.shape) # 2 rows and 3 columns\n",
    "\n",
    "# # Second Part\n",
    "# array = np.zeros((3,4), dtype=int) # dtype default is float\n",
    "# array = np.ones((3,4), dtype=int) # dtype default is float\n",
    "# array = np.full((3,4), 5, dtype=int) # dtype default is float\n",
    "# array = np.random.random((3,4)) # Random numbers between 0 and 1\n",
    "# print(array)\n",
    "# #print(array[0,0])\n",
    "# print(\"\\n\")\n",
    "# print(array > 0.2)\n",
    "# print(\"\\n\")\n",
    "# print(array[array > 0.2])\n",
    "# print(\"\\n\")\n",
    "# print(np.sum(array))\n",
    "# print(np.floor(array))\n",
    "# print(\"\\n\")\n",
    "# print(np.ceil(array))\n",
    "# print(\"\\n\")\n",
    "# print(np.round(array))\n",
    "\n",
    "# # Third Part: Arithmetic Operations\n",
    "# first = np.array([1,2,3])\n",
    "# second = np.array([4,5,6])\n",
    "# print(first + second)\n",
    "# print(first + 2)\n",
    "\n",
    "# # Fourth Part: Dimensions\n",
    "\n",
    "dimensions_inch = np.array([1,2,3])\n",
    "dimensions_cm = dimensions_inch * 2.54\n",
    "print(dimensions_cm)\n"
   ]
  }
 ],
 "metadata": {
  "kernelspec": {
   "display_name": "env",
   "language": "python",
   "name": "python3"
  },
  "language_info": {
   "codemirror_mode": {
    "name": "ipython",
    "version": 3
   },
   "file_extension": ".py",
   "mimetype": "text/x-python",
   "name": "python",
   "nbconvert_exporter": "python",
   "pygments_lexer": "ipython3",
   "version": "3.12.0"
  }
 },
 "nbformat": 4,
 "nbformat_minor": 2
}
